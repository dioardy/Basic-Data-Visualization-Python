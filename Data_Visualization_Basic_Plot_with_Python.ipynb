{
  "nbformat": 4,
  "nbformat_minor": 0,
  "metadata": {
    "colab": {
      "name": "Data Visualization: Basic Plot with Python.ipynb",
      "provenance": [],
      "collapsed_sections": []
    },
    "kernelspec": {
      "name": "python3",
      "display_name": "Python 3"
    }
  },
  "cells": [
    {
      "cell_type": "markdown",
      "metadata": {
        "id": "93VF7VtBZw-p",
        "colab_type": "text"
      },
      "source": [
        "# <center> Visualization with Python: Basic Plot Data with matplotlib</center>\n",
        "\n",
        "This course is devoted to student of Undergraduate Student of Informatics, Telkom University. \n",
        "\n",
        "Detail of Course\n",
        "\n",
        "\n",
        "*   Course Name: (CSH4W3) Data Visualization\n",
        "\n",
        "*   Lecturer: Dr. Putu Harry Gunawan\n",
        "\n",
        "\n",
        "---\n",
        "\n",
        "This course inlcude basic review of Python using numpy and pandas.\n",
        "\n",
        "\n"
      ]
    },
    {
      "cell_type": "markdown",
      "metadata": {
        "id": "ncByF0ZVbZnh",
        "colab_type": "text"
      },
      "source": [
        "# Basic Python"
      ]
    },
    {
      "cell_type": "markdown",
      "metadata": {
        "id": "9MbdOLZTg2IJ",
        "colab_type": "text"
      },
      "source": [
        "**Variables**"
      ]
    },
    {
      "cell_type": "code",
      "metadata": {
        "id": "xmkp8XtwW6fb",
        "colab_type": "code",
        "outputId": "1f467307-61ab-4f46-b8f3-ba125cc70559",
        "colab": {
          "base_uri": "https://localhost:8080/",
          "height": 68
        }
      },
      "source": [
        "A = 5\n",
        "B = 7\n",
        "C = 8\n",
        "print(A)\n",
        "print(B)\n",
        "print(C)"
      ],
      "execution_count": 0,
      "outputs": [
        {
          "output_type": "stream",
          "text": [
            "5\n",
            "7\n",
            "8\n"
          ],
          "name": "stdout"
        }
      ]
    },
    {
      "cell_type": "markdown",
      "metadata": {
        "id": "6CWKsGU-W7I4",
        "colab_type": "text"
      },
      "source": [
        "Arrays"
      ]
    },
    {
      "cell_type": "code",
      "metadata": {
        "id": "tc-9ZzBwXAc_",
        "colab_type": "code",
        "outputId": "9846582e-9b77-411a-c698-c57f50a593f9",
        "colab": {
          "base_uri": "https://localhost:8080/",
          "height": 51
        }
      },
      "source": [
        "cars = ['Toyota','Chevrolet','BMW','Mitsubishi']\n",
        "\n",
        "length = len(cars)\n",
        "\n",
        "print(cars)\n",
        "print(length)"
      ],
      "execution_count": 0,
      "outputs": [
        {
          "output_type": "stream",
          "text": [
            "['Toyota', 'Chevrolet', 'BMW', 'Mitsubishi']\n",
            "4\n"
          ],
          "name": "stdout"
        }
      ]
    },
    {
      "cell_type": "markdown",
      "metadata": {
        "id": "HzBiAHpGXK2y",
        "colab_type": "text"
      },
      "source": [
        "Get the first element and the last element"
      ]
    },
    {
      "cell_type": "code",
      "metadata": {
        "id": "V_dCKzspXNVg",
        "colab_type": "code",
        "outputId": "9b3ff25d-9a9a-48e0-ead1-6c1a3de4cc62",
        "colab": {
          "base_uri": "https://localhost:8080/",
          "height": 51
        }
      },
      "source": [
        "x = cars[0]\n",
        "print(x)\n",
        "\n",
        "x = cars[-1]\n",
        "print(x)"
      ],
      "execution_count": 0,
      "outputs": [
        {
          "output_type": "stream",
          "text": [
            "Toyota\n",
            "Mitsubishi\n"
          ],
          "name": "stdout"
        }
      ]
    },
    {
      "cell_type": "markdown",
      "metadata": {
        "id": "2I1kU8wWXRTW",
        "colab_type": "text"
      },
      "source": [
        "Adding, delete by index and value"
      ]
    },
    {
      "cell_type": "code",
      "metadata": {
        "id": "l8M2jTgTXhAg",
        "colab_type": "code",
        "outputId": "8810d867-ba3c-4f61-8fff-3c89d0601747",
        "colab": {
          "base_uri": "https://localhost:8080/",
          "height": 68
        }
      },
      "source": [
        "#Adding Honda\n",
        "cars.append(\"Honda\")\n",
        "print(cars)\n",
        "\n",
        "#Delete third element\n",
        "cars.pop(2)\n",
        "print(cars)\n",
        "\n",
        "#Remove Volvo\n",
        "cars.remove(\"Honda\")\n",
        "print(cars)"
      ],
      "execution_count": 0,
      "outputs": [
        {
          "output_type": "stream",
          "text": [
            "['Toyota', 'Chevrolet', 'BMW', 'Mitsubishi', 'Honda']\n",
            "['Toyota', 'Chevrolet', 'Mitsubishi', 'Honda']\n",
            "['Toyota', 'Chevrolet', 'Mitsubishi']\n"
          ],
          "name": "stdout"
        }
      ]
    },
    {
      "cell_type": "markdown",
      "metadata": {
        "id": "86s9GhuyXumG",
        "colab_type": "text"
      },
      "source": [
        "Loop process"
      ]
    },
    {
      "cell_type": "code",
      "metadata": {
        "id": "pfXf2lkfXwjI",
        "colab_type": "code",
        "outputId": "9e8374fe-4ba7-4470-eaaa-5625711fa445",
        "colab": {
          "base_uri": "https://localhost:8080/",
          "height": 68
        }
      },
      "source": [
        "for x in cars:\n",
        "  print(x)"
      ],
      "execution_count": 0,
      "outputs": [
        {
          "output_type": "stream",
          "text": [
            "Toyota\n",
            "Chevrolet\n",
            "Mitsubishi\n"
          ],
          "name": "stdout"
        }
      ]
    },
    {
      "cell_type": "code",
      "metadata": {
        "id": "pD77IctyXxvL",
        "colab_type": "code",
        "outputId": "eb8792db-b732-4a77-e3bb-2cf153b11cef",
        "colab": {
          "base_uri": "https://localhost:8080/",
          "height": 68
        }
      },
      "source": [
        "for i in range(0,len(cars)):\n",
        "  print(cars[i])"
      ],
      "execution_count": 0,
      "outputs": [
        {
          "output_type": "stream",
          "text": [
            "Toyota\n",
            "Chevrolet\n",
            "Mitsubishi\n"
          ],
          "name": "stdout"
        }
      ]
    },
    {
      "cell_type": "markdown",
      "metadata": {
        "id": "ZBWOLiPjb3LZ",
        "colab_type": "text"
      },
      "source": [
        "**NumPy**\n",
        "\n",
        "NumPy is a general-purpose array-processing package. It provides a high-performance multidimensional array object, and tools for working with these arrays."
      ]
    },
    {
      "cell_type": "code",
      "metadata": {
        "id": "yTny7rJVcKd1",
        "colab_type": "code",
        "colab": {}
      },
      "source": [
        "# Python program to demonstrate \n",
        "# array creation techniques \n",
        "import numpy as np \n",
        "import random\n"
      ],
      "execution_count": 0,
      "outputs": []
    },
    {
      "cell_type": "code",
      "metadata": {
        "id": "_UNHq9ClcuS8",
        "colab_type": "code",
        "outputId": "4ed35841-daae-451c-c5a9-d55b121e6eb5",
        "colab": {
          "base_uri": "https://localhost:8080/",
          "height": 272
        }
      },
      "source": [
        "# Creating array from list with type float \n",
        "a = np.array([1,2,3,4,5,6,7,8,9]) \n",
        "print (\"Array created using passed list:\\n\", a) \n",
        "\n",
        "# Creating array from tuple \n",
        "b = np.array((3,2,1)) \n",
        "print (\"\\nArray created using passed tuple:\\n\", b) \n",
        "\n",
        "# Creating a 3X4 array with all zeros \n",
        "c = np.zeros([3,4]) \n",
        "print (\"\\nAn array initialized with all zeros:\\n\", c) \n",
        "\n",
        "# Create a constant value array of complex type \n",
        "d = np.full((3,3),6) \n",
        "print (\"\\nAn array initialized with all 6s.\"\n",
        "\t\t\t\"Array type is complex:\\n\", d) "
      ],
      "execution_count": 0,
      "outputs": [
        {
          "output_type": "stream",
          "text": [
            "Array created using passed list:\n",
            " [1 2 3 4 5 6 7 8 9]\n",
            "\n",
            "Array created using passed tuple:\n",
            " [3 2 1]\n",
            "\n",
            "An array initialized with all zeros:\n",
            " [[0. 0. 0. 0.]\n",
            " [0. 0. 0. 0.]\n",
            " [0. 0. 0. 0.]]\n",
            "\n",
            "An array initialized with all 6s.Array type is complex:\n",
            " [[6 6 6]\n",
            " [6 6 6]\n",
            " [6 6 6]]\n"
          ],
          "name": "stdout"
        }
      ]
    },
    {
      "cell_type": "code",
      "metadata": {
        "id": "lGXHQJTvcvuU",
        "colab_type": "code",
        "outputId": "f957d5ba-5455-4bcf-e54a-211278eb3743",
        "colab": {
          "base_uri": "https://localhost:8080/",
          "height": 102
        }
      },
      "source": [
        "# Create an array with random values \n",
        "e = np.random.rand(3,2)\n",
        "print (\"\\nA random array:\\n\", e) \n"
      ],
      "execution_count": 0,
      "outputs": [
        {
          "output_type": "stream",
          "text": [
            "\n",
            "A random array:\n",
            " [[0.07663739 0.54660432]\n",
            " [0.49702781 0.53861315]\n",
            " [0.64172012 0.00114357]]\n"
          ],
          "name": "stdout"
        }
      ]
    },
    {
      "cell_type": "code",
      "metadata": {
        "id": "chHFrt-Tc0PE",
        "colab_type": "code",
        "outputId": "746b9a1e-4f3e-4f00-92d3-a665f24f186c",
        "colab": {
          "base_uri": "https://localhost:8080/",
          "height": 136
        }
      },
      "source": [
        "# Create a sequence of integers \n",
        "# from 0 to 30 with steps of 5 \n",
        "f = np.arange(0,30,5)\n",
        "print (\"\\nA sequential array with steps of 5:\\n\", f) \n",
        "\n",
        "# Create a sequence of 10 values in range 0 to 5 \n",
        "g = np.linspace(0,5,10)\n",
        "print (\"\\nA sequential array with 10 values between\"\n",
        "\t\t\t\t\t\t\t\t\t\t\"0 and 5:\\n\", g) \n"
      ],
      "execution_count": 0,
      "outputs": [
        {
          "output_type": "stream",
          "text": [
            "\n",
            "A sequential array with steps of 5:\n",
            " [ 0  5 10 15 20 25]\n",
            "\n",
            "A sequential array with 10 values between0 and 5:\n",
            " [0.         0.55555556 1.11111111 1.66666667 2.22222222 2.77777778\n",
            " 3.33333333 3.88888889 4.44444444 5.        ]\n"
          ],
          "name": "stdout"
        }
      ]
    },
    {
      "cell_type": "code",
      "metadata": {
        "id": "b321YtGic9WD",
        "colab_type": "code",
        "outputId": "f6344c5e-4283-4e17-ee5b-e58374505b64",
        "colab": {
          "base_uri": "https://localhost:8080/",
          "height": 204
        }
      },
      "source": [
        "# Reshaping 3X4 array to 2X2X3 array \n",
        "arr = np.array([[1, 2, 3, 4], \n",
        "\t\t\t\t[5, 2, 4, 2], \n",
        "\t\t\t\t[1, 2, 0, 1]]) \n",
        "\n",
        "newarr = arr.reshape(2, 2, 3) \n",
        "\n",
        "print (\"\\nOriginal array:\\n\", arr) \n",
        "print (\"Reshaped array:\\n\", newarr) "
      ],
      "execution_count": 0,
      "outputs": [
        {
          "output_type": "stream",
          "text": [
            "\n",
            "Original array:\n",
            " [[1 2 3 4]\n",
            " [5 2 4 2]\n",
            " [1 2 0 1]]\n",
            "Reshaped array:\n",
            " [[[1 2 3]\n",
            "  [4 5 2]]\n",
            "\n",
            " [[4 2 1]\n",
            "  [2 0 1]]]\n"
          ],
          "name": "stdout"
        }
      ]
    },
    {
      "cell_type": "code",
      "metadata": {
        "id": "RAIxQjKPdBx-",
        "colab_type": "code",
        "outputId": "9d55a553-1bd3-4a4e-f286-266d3d34fda9",
        "colab": {
          "base_uri": "https://localhost:8080/",
          "height": 119
        }
      },
      "source": [
        "# Flatten array \n",
        "arr = np.array([[1, 2, 3], [4, 5, 6]]) \n",
        "flarr = arr.flatten()\n",
        "\n",
        "print (\"\\nOriginal array:\\n\", arr) \n",
        "print (\"Fattened array:\\n\", flarr) "
      ],
      "execution_count": 0,
      "outputs": [
        {
          "output_type": "stream",
          "text": [
            "\n",
            "Original array:\n",
            " [[1 2 3]\n",
            " [4 5 6]]\n",
            "Fattened array:\n",
            " [1 2 3 4 5 6]\n"
          ],
          "name": "stdout"
        }
      ]
    },
    {
      "cell_type": "markdown",
      "metadata": {
        "id": "WP21vc-Rdam8",
        "colab_type": "text"
      },
      "source": [
        "**Array Indexing**: Knowing the basics of array indexing is important for analysing and manipulating the array object. NumPy offers many ways to do array indexing.\n",
        "\n",
        "\n",
        "\n",
        "*   **Slicing**: Just like lists in python, NumPy arrays can be sliced. As arrays can be multidimensional, you need to specify a slice for each dimension of the array.\n",
        "*   **Integer array indexing**: In this method, lists are passed for indexing for each dimension. One to one mapping of corresponding elements is done to construct a new arbitrary array.\n",
        "*   **LBoolean array indexing**: This method is used when we want to pick elements from array which satisfy some condition.\n"
      ]
    },
    {
      "cell_type": "code",
      "metadata": {
        "id": "dc5veJzvdb_d",
        "colab_type": "code",
        "outputId": "dfb54c72-2a76-458f-ba0f-ae7562fa598f",
        "colab": {
          "base_uri": "https://localhost:8080/",
          "height": 68
        }
      },
      "source": [
        "# Python program to demonstrate \n",
        "# indexing in numpy \n",
        "import numpy as np \n",
        "\n",
        "# An exemplar array \n",
        "arr = np.array([[-1, 2, 0, 4], \n",
        "\t\t\t\t[4, -0.5, 6, 0], \n",
        "\t\t\t\t[2.6, 0, 7, 8], \n",
        "\t\t\t\t[3, -7, 4, 2.0]]) \n",
        "\n",
        "# Slicing array \n",
        "temp = arr[:2, ::2] \n",
        "print (\"Array with first 2 rows and alternate\"\n",
        "\t\t\t\t\t\"columns(0 and 2):\\n\", temp) "
      ],
      "execution_count": 0,
      "outputs": [
        {
          "output_type": "stream",
          "text": [
            "Array with first 2 rows and alternatecolumns(0 and 2):\n",
            " [[-1.  0.]\n",
            " [ 4.  6.]]\n"
          ],
          "name": "stdout"
        }
      ]
    },
    {
      "cell_type": "code",
      "metadata": {
        "id": "Ki5f7WBtdgV-",
        "colab_type": "code",
        "outputId": "efa9aa5d-d149-46b5-b80c-f0bccbad7678",
        "colab": {
          "base_uri": "https://localhost:8080/",
          "height": 68
        }
      },
      "source": [
        "# Integer array indexing example \n",
        "temp = arr[[0, 1, 2, 3], [3, 2, 1, 0]] \n",
        "print (\"\\nElements at indices (0, 3), (1, 2), (2, 1),\"\n",
        "\t\t\t\t\t\t\t\t\t\"(3, 0):\\n\", temp) "
      ],
      "execution_count": 0,
      "outputs": [
        {
          "output_type": "stream",
          "text": [
            "\n",
            "Elements at indices (0, 3), (1, 2), (2, 1),(3, 0):\n",
            " [4. 6. 0. 3.]\n"
          ],
          "name": "stdout"
        }
      ]
    },
    {
      "cell_type": "code",
      "metadata": {
        "id": "7DK1iNJgdqgH",
        "colab_type": "code",
        "outputId": "12634cd4-d14f-43c7-eafa-d025bbad1a33",
        "colab": {
          "base_uri": "https://localhost:8080/",
          "height": 68
        }
      },
      "source": [
        "# boolean array indexing example \n",
        "cond = arr > 0 # cond is a boolean array \n",
        "temp = arr[cond] \n",
        "print (\"\\nElements greater than 0:\\n\", temp) "
      ],
      "execution_count": 0,
      "outputs": [
        {
          "output_type": "stream",
          "text": [
            "\n",
            "Elements greater than 0:\n",
            " [2.  4.  4.  6.  2.6 7.  8.  3.  4.  2. ]\n"
          ],
          "name": "stdout"
        }
      ]
    },
    {
      "cell_type": "markdown",
      "metadata": {
        "id": "ztfawTVQd00H",
        "colab_type": "text"
      },
      "source": [
        "**Basic operations**: Plethora of built-in arithmetic functions are provided in NumPy.\n",
        "\n",
        "\n",
        "\n",
        "*   **Operations on single array**: We can use overloaded arithmetic operators to do element-wise operation on array to create a new array. In case of +=, -=, *= operators, the exsisting array is modified.\n",
        "\n"
      ]
    },
    {
      "cell_type": "code",
      "metadata": {
        "id": "tkX6rdf7d15c",
        "colab_type": "code",
        "outputId": "655a7594-2d5f-435b-bd06-0c005fe0ad23",
        "colab": {
          "base_uri": "https://localhost:8080/",
          "height": 187
        }
      },
      "source": [
        "# Python program to demonstrate \n",
        "# basic operations on single array \n",
        "import numpy as np \n",
        "\n",
        "a = np.array([1, 2, 5, 3]) \n",
        "\n",
        "# add 1 to every element \n",
        "print (\"Adding 1 to every element:\", a+1 ) \n",
        "\n",
        "# subtract 3 from each element \n",
        "print (\"Subtracting 3 from each element:\", a-3 ) \n",
        "\n",
        "# multiply each element by 10 \n",
        "print (\"Multiplying each element by 10:\", a*10 ) \n",
        "\n",
        "# square each element \n",
        "print (\"Squaring each element:\", a**2 ) \n",
        "\n",
        "# modify existing array \n",
        "a *= 2\n",
        "print (\"Doubled each element of original array:\", a ) \n",
        "\n",
        "# transpose of array \n",
        "a = np.array([[1, 2, 3], [3, 4, 5], [9, 6, 0]]) \n",
        "\n",
        "print (\"\\nOriginal array:\\n\", ) \n",
        "print (\"Transpose of array:\\n\",  ) "
      ],
      "execution_count": 0,
      "outputs": [
        {
          "output_type": "stream",
          "text": [
            "Adding 1 to every element: [2 3 6 4]\n",
            "Subtracting 3 from each element: [-2 -1  2  0]\n",
            "Multiplying each element by 10: [10 20 50 30]\n",
            "Squaring each element: [ 1  4 25  9]\n",
            "Doubled each element of original array: [ 2  4 10  6]\n",
            "\n",
            "Original array:\n",
            "\n",
            "Transpose of array:\n",
            "\n"
          ],
          "name": "stdout"
        }
      ]
    },
    {
      "cell_type": "markdown",
      "metadata": {
        "id": "JSdEiSajeFWL",
        "colab_type": "text"
      },
      "source": [
        "\n",
        "*   **Binary operators**: These operations apply on array elementwise and a new array is created. You can use all basic arithmetic operators like +, -, /, , etc. In case of +=, -=, = operators, the exsisting array is modified."
      ]
    },
    {
      "cell_type": "code",
      "metadata": {
        "id": "qjQe8tEmeLoP",
        "colab_type": "code",
        "outputId": "63a4d4ee-0d7b-48f3-ce23-0a06f380a699",
        "colab": {
          "base_uri": "https://localhost:8080/",
          "height": 221
        }
      },
      "source": [
        "# Python program to demonstrate \n",
        "# binary operators in Numpy \n",
        "import numpy as np \n",
        "\n",
        "a = np.array([[1, 2], \n",
        "\t\t\t[3, 4]]) \n",
        "b = np.array([[4, 3], \n",
        "\t\t\t[2, 1]]) \n",
        "\n",
        "# add arrays \n",
        "print (\"Array sum:\\n\", a+b ) \n",
        "\n",
        "# multiply arrays (elementwise multiplication) \n",
        "print (\"Array multiplication:\\n\", a*b ) \n",
        "\n",
        "# matrix multiplication \n",
        "print (\"Matrix multiplication:\\n\", a.dot(b) ) \n",
        "#print (\"Matrix multiplication:\\n\", a@b) \n",
        "\n",
        "# inverse matrix \n",
        "print (\"Inverse of Matrix a:\\n\", a ) \n",
        "#print (\"Matrix multiplication:\\n\", a@b) \n"
      ],
      "execution_count": 0,
      "outputs": [
        {
          "output_type": "stream",
          "text": [
            "Array sum:\n",
            " [[5 5]\n",
            " [5 5]]\n",
            "Array multiplication:\n",
            " [[4 6]\n",
            " [6 4]]\n",
            "Matrix multiplication:\n",
            " [[ 8  5]\n",
            " [20 13]]\n",
            "Inverse of Matrix a:\n",
            " [[1 2]\n",
            " [3 4]]\n"
          ],
          "name": "stdout"
        }
      ]
    },
    {
      "cell_type": "markdown",
      "metadata": {
        "id": "0ppxYfjyv19A",
        "colab_type": "text"
      },
      "source": [
        "Dataframe and data"
      ]
    },
    {
      "cell_type": "code",
      "metadata": {
        "id": "4X9BCuRGv4b1",
        "colab_type": "code",
        "colab": {}
      },
      "source": [
        "import pandas as pd\n",
        "\n",
        "url = 'http://bit.ly/Test-PHN'\n",
        "data = pd.read_csv(url, index_col=0)\n",
        "\n",
        "col_1 = data.iloc[:200,0]\n",
        "col_4 = data.iloc[:200,3]\n"
      ],
      "execution_count": 0,
      "outputs": []
    },
    {
      "cell_type": "markdown",
      "metadata": {
        "id": "sXtEV57zwKk0",
        "colab_type": "text"
      },
      "source": [
        "Convert dataframe to array"
      ]
    },
    {
      "cell_type": "code",
      "metadata": {
        "id": "uBlfHpMav-M8",
        "colab_type": "code",
        "outputId": "5bf66cb5-6e00-4a4e-e9ce-94982405705d",
        "colab": {
          "base_uri": "https://localhost:8080/",
          "height": 255
        }
      },
      "source": [
        "A =  data.to_numpy\n",
        "\n",
        "A"
      ],
      "execution_count": 0,
      "outputs": [
        {
          "output_type": "execute_result",
          "data": {
            "text/plain": [
              "<bound method DataFrame.to_numpy of         TV  radio  newspaper  sales\n",
              "1    230.1   37.8       69.2   22.1\n",
              "2     44.5   39.3       45.1   10.4\n",
              "3     17.2   45.9       69.3    9.3\n",
              "4    151.5   41.3       58.5   18.5\n",
              "5    180.8   10.8       58.4   12.9\n",
              "..     ...    ...        ...    ...\n",
              "196   38.2    3.7       13.8    7.6\n",
              "197   94.2    4.9        8.1    9.7\n",
              "198  177.0    9.3        6.4   12.8\n",
              "199  283.6   42.0       66.2   25.5\n",
              "200  232.1    8.6        8.7   13.4\n",
              "\n",
              "[200 rows x 4 columns]>"
            ]
          },
          "metadata": {
            "tags": []
          },
          "execution_count": 21
        }
      ]
    },
    {
      "cell_type": "markdown",
      "metadata": {
        "id": "_QNsBoNgXN58",
        "colab_type": "text"
      },
      "source": [
        "# Basic Plot"
      ]
    },
    {
      "cell_type": "markdown",
      "metadata": {
        "id": "sBphk-XcghOe",
        "colab_type": "text"
      },
      "source": [
        "Plot a function $\\sin(x)$ where $x \\in [0,2\\pi]$"
      ]
    },
    {
      "cell_type": "code",
      "metadata": {
        "id": "cLBtFuOIf4YO",
        "colab_type": "code",
        "outputId": "8bf43a6c-fc63-4e1e-c117-59d116389850",
        "colab": {
          "base_uri": "https://localhost:8080/",
          "height": 282
        }
      },
      "source": [
        "import matplotlib.pyplot as plt\n",
        "import numpy as np\n",
        "\n",
        "#make an array x which consits of 100 points with range (0,2*pi)\n",
        "x = np.linspace(0,2*np.pi,100)\n",
        "\n",
        "#plot\n",
        "plt.plot(np.sin(x))"
      ],
      "execution_count": 0,
      "outputs": [
        {
          "output_type": "execute_result",
          "data": {
            "text/plain": [
              "[<matplotlib.lines.Line2D at 0x7fdbefe54208>]"
            ]
          },
          "metadata": {
            "tags": []
          },
          "execution_count": 22
        },
        {
          "output_type": "display_data",
          "data": {
            "image/png": "[encoded data removed]",
            "text/plain": [
              "<Figure size 432x288 with 1 Axes>"
            ]
          },
          "metadata": {
            "tags": [],
            "needs_background": "light"
          }
        }
      ]
    },
    {
      "cell_type": "markdown",
      "metadata": {
        "id": "308MuF1ihM03",
        "colab_type": "text"
      },
      "source": [
        "Add show() function"
      ]
    },
    {
      "cell_type": "code",
      "metadata": {
        "id": "XcN4bAGthHhp",
        "colab_type": "code",
        "colab": {}
      },
      "source": [
        "plt.show()"
      ],
      "execution_count": 0,
      "outputs": []
    },
    {
      "cell_type": "markdown",
      "metadata": {
        "id": "QxcdF6RFiC6j",
        "colab_type": "text"
      },
      "source": [
        "label, legend and title"
      ]
    },
    {
      "cell_type": "code",
      "metadata": {
        "id": "77VMbiAoiFWN",
        "colab_type": "code",
        "outputId": "308479f9-0daf-413c-f131-458c855edce0",
        "colab": {
          "base_uri": "https://localhost:8080/",
          "height": 295
        }
      },
      "source": [
        "plt.xlabel('x')\n",
        "plt.ylabel('y')\n",
        "\n",
        "plt.plot(np.sin(x), color='red', linewidth=3)\n",
        "\n",
        "plt.legend(('sin(x)',), loc='upper right')\n",
        "plt.title('Sin')\n",
        "plt.show()"
      ],
      "execution_count": 0,
      "outputs": [
        {
          "output_type": "display_data",
          "data": {
            "image/png": "[encoded data removed]",
            "text/plain": [
              "<Figure size 432x288 with 1 Axes>"
            ]
          },
          "metadata": {
            "tags": [],
            "needs_background": "light"
          }
        }
      ]
    },
    {
      "cell_type": "markdown",
      "metadata": {
        "id": "jKECf-ISiTWX",
        "colab_type": "text"
      },
      "source": [
        "add grid()"
      ]
    },
    {
      "cell_type": "code",
      "metadata": {
        "id": "x9_Z35IQiWYA",
        "colab_type": "code",
        "outputId": "9edf773a-4b52-4b13-c06f-d535802e07b4",
        "colab": {
          "base_uri": "https://localhost:8080/",
          "height": 269
        }
      },
      "source": [
        "\n",
        "\n",
        "plt.grid()\n",
        "\n"
      ],
      "execution_count": 0,
      "outputs": [
        {
          "output_type": "display_data",
          "data": {
            "image/png": "[encoded data removed]",
            "text/plain": [
              "<Figure size 432x288 with 1 Axes>"
            ]
          },
          "metadata": {
            "tags": [],
            "needs_background": "light"
          }
        }
      ]
    },
    {
      "cell_type": "markdown",
      "metadata": {
        "id": "fVuLoQoOnh_X",
        "colab_type": "text"
      },
      "source": [
        "Font size of label and title"
      ]
    },
    {
      "cell_type": "code",
      "metadata": {
        "id": "1VaXPu14nnJD",
        "colab_type": "code",
        "outputId": "2b8bbf49-3599-4a15-f53f-5e97eb6ae07a",
        "colab": {
          "base_uri": "https://localhost:8080/",
          "height": 300
        }
      },
      "source": [
        "plt.xlabel('x')\n",
        "plt.ylabel('y')\n",
        "\n",
        "plt.grid()\n",
        "\n",
        "plt.plot(np.sin(x), color='red', linewidth=3)\n",
        "\n",
        "plt.legend(('sin(x)',), loc='upper right')\n",
        "plt.title('Plot sin(x)', fontsize=20)\n",
        "plt.show()"
      ],
      "execution_count": 0,
      "outputs": [
        {
          "output_type": "display_data",
          "data": {
            "image/png": "[encoded data removed]",
            "text/plain": [
              "<Figure size 432x288 with 1 Axes>"
            ]
          },
          "metadata": {
            "tags": [],
            "needs_background": "light"
          }
        }
      ]
    },
    {
      "cell_type": "markdown",
      "metadata": {
        "id": "2TUoSZBIop3d",
        "colab_type": "text"
      },
      "source": [
        "Tickx label font size"
      ]
    },
    {
      "cell_type": "code",
      "metadata": {
        "id": "aF458qTwowTs",
        "colab_type": "code",
        "outputId": "c331bd19-66fd-4fc1-93b4-5a063c832de3",
        "colab": {
          "base_uri": "https://localhost:8080/",
          "height": 312
        }
      },
      "source": [
        "plt.xlabel('x', fontsize=20)\n",
        "plt.ylabel('y', fontsize=20)\n",
        "\n",
        "plt.tick_params(direction='out', length=6, width=2, colors='w',\n",
        "               grid_color='r', grid_alpha=0.5)\n",
        "\n",
        "plt.grid()\n",
        "\n",
        "plt.plot(np.sin(x), color='red', linewidth=3)\n",
        "\n",
        "plt.legend(('sin(x)',), loc='upper right')\n",
        "plt.title('Plot sin(x)', fontsize=20)\n",
        "plt.show()"
      ],
      "execution_count": 0,
      "outputs": [
        {
          "output_type": "display_data",
          "data": {
            "image/png": "[encoded data removed]",
            "text/plain": [
              "<Figure size 432x288 with 1 Axes>"
            ]
          },
          "metadata": {
            "tags": [],
            "needs_background": "dark"
          }
        }
      ]
    },
    {
      "cell_type": "markdown",
      "metadata": {
        "id": "WDIH03q0pS5l",
        "colab_type": "text"
      },
      "source": [
        "Save figure "
      ]
    },
    {
      "cell_type": "code",
      "metadata": {
        "id": "ZtQYEHc4pVG0",
        "colab_type": "code",
        "outputId": "aadb863c-9f5c-4d80-9b78-8e817034ad13",
        "colab": {
          "base_uri": "https://localhost:8080/",
          "height": 321
        }
      },
      "source": [
        "plt.xlabel('x', fontsize=20)\n",
        "plt.ylabel('y', fontsize=20)\n",
        "plt.tick_params(direction='out', length=6, width=2, colors='blue',\n",
        "               grid_color='green', grid_alpha=0.5, labelsize=20)\n",
        "plt.grid()\n",
        "\n",
        "plt.plot(np.sin(x), color='red', linewidth=3)\n",
        "\n",
        "plt.legend(('sin(x)',), loc='upper right')\n",
        "plt.title('Plot sin(x)', fontsize=20)\n",
        "\n",
        "plt.savefig('fig_png.png', dpi=None, facecolor='w', edgecolor='w',\n",
        "        orientation='portrait')\n",
        "\n",
        "plt.show()"
      ],
      "execution_count": 0,
      "outputs": [
        {
          "output_type": "display_data",
          "data": {
            "image/png": "[encoded data removed]",
            "text/plain": [
              "<Figure size 432x288 with 1 Axes>"
            ]
          },
          "metadata": {
            "tags": [],
            "needs_background": "light"
          }
        }
      ]
    },
    {
      "cell_type": "markdown",
      "metadata": {
        "id": "pP-4LNHZr1Ye",
        "colab_type": "text"
      },
      "source": [
        "**Exercise 1**\n",
        "\n",
        "Make a plot of two functions $\\sin(x)$ and $\\cos(x)$ where $x \\in (0, 4\\pi)$. Note please define a function of sin and cos separately"
      ]
    },
    {
      "cell_type": "code",
      "metadata": {
        "id": "ToM50myysGhf",
        "colab_type": "code",
        "outputId": "424c0792-44c8-414f-cc30-c41e924c8ed8",
        "colab": {
          "base_uri": "https://localhost:8080/",
          "height": 295
        }
      },
      "source": [
        "import matplotlib.pyplot as plt\n",
        "import numpy as np\n",
        "\n",
        "def fsin(x):\n",
        "  return np.sin(x)\n",
        "\n",
        "def fcos(x):\n",
        "  return np.cos(x)\n",
        "\n",
        "#define variable x\n",
        "x = np.linspace(0,4*np.pi,100)\n",
        "#plot the functions\n",
        "\n",
        "plt.title('graph of Sin(x) and Cos(x) function')\n",
        "plt.plot(fsin(x), c = 'r')\n",
        "plt.plot(fcos(x), c = 'b')\n",
        "plt.xlabel('x values from 0 to 4pi')\n",
        "plt.ylabel('sin(x) and cos(x)')\n",
        "plt.legend(['sin(x)', 'cos(x)'])   \n",
        "plt.show()"
      ],
      "execution_count": 0,
      "outputs": [
        {
          "output_type": "display_data",
          "data": {
            "image/png": "[encoded data removed]",
            "text/plain": [
              "<Figure size 432x288 with 1 Axes>"
            ]
          },
          "metadata": {
            "tags": [],
            "needs_background": "light"
          }
        }
      ]
    },
    {
      "cell_type": "markdown",
      "metadata": {
        "id": "ggA_V-1bsxm-",
        "colab_type": "text"
      },
      "source": [
        "**Exercise 2**\n",
        "\n",
        "Make a plot of a function $f(x)=x^2 -2x+2$ where $x \\in [0, 100]$. Note please define a function of sin and cos separately"
      ]
    },
    {
      "cell_type": "code",
      "metadata": {
        "id": "bsRXOstNtD5s",
        "colab_type": "code",
        "outputId": "9421a22c-e845-4281-fdc3-5b9a8570380e",
        "colab": {
          "base_uri": "https://localhost:8080/",
          "height": 265
        }
      },
      "source": [
        "import matplotlib.pyplot as plt\n",
        "import numpy as np\n",
        "\n",
        "def f(x):\n",
        "  return (x**2 - 2*x + 2)\n",
        "\n",
        "\n",
        "#define variable x\n",
        "x = np.linspace(0,100)\n",
        "#plot the functions\n",
        "plt.plot(f(x))\n",
        "plt.show()"
      ],
      "execution_count": 0,
      "outputs": [
        {
          "output_type": "display_data",
          "data": {
            "image/png": "[encoded data removed]",
            "text/plain": [
              "<Figure size 432x288 with 1 Axes>"
            ]
          },
          "metadata": {
            "tags": [],
            "needs_background": "light"
          }
        }
      ]
    },
    {
      "cell_type": "markdown",
      "metadata": {
        "id": "TNn66yMizLCQ",
        "colab_type": "text"
      },
      "source": [
        "**Exercise 3**\n",
        "\n",
        "Make a plot as the folowing figure, with random value\n",
        "\n",
        "<img src = \"https://i.imgur.com/CdgWJiM.png\" align = \"center\">"
      ]
    },
    {
      "cell_type": "code",
      "metadata": {
        "id": "2E16lo5F0CyE",
        "colab_type": "code",
        "outputId": "e77249fd-0498-4a47-da8b-eefc86dd19d0",
        "colab": {
          "base_uri": "https://localhost:8080/",
          "height": 300
        }
      },
      "source": [
        "import matplotlib.pyplot as plt\n",
        "import numpy as np\n",
        "\n",
        "x = np.random.uniform(-4, 4, 100)\n",
        "y = x + np.random.randn(100) + 2\n",
        "line = np.arange(-4, 5)\n",
        "y2 = line + 2\n",
        "plt.title('Linear Regression', fontsize = 20)\n",
        "plt.xlabel('Independent Variable')\n",
        "plt.ylabel('Dependent Variable')\n",
        "plt.plot(line, y2 , c = 'r', linewidth=2)\n",
        "plt.plot(x, y, 'o', c = 'b')\n",
        "plt.show()"
      ],
      "execution_count": 0,
      "outputs": [
        {
          "output_type": "display_data",
          "data": {
            "image/png": "[encoded data removed]",
            "text/plain": [
              "<Figure size 432x288 with 1 Axes>"
            ]
          },
          "metadata": {
            "tags": [],
            "needs_background": "light"
          }
        }
      ]
    },
    {
      "cell_type": "markdown",
      "metadata": {
        "id": "Z1kaDC6Ct2zS",
        "colab_type": "text"
      },
      "source": [
        "# Categorial plot"
      ]
    },
    {
      "cell_type": "markdown",
      "metadata": {
        "id": "WnmLqKLJuCSk",
        "colab_type": "text"
      },
      "source": [
        "Plot in subplot with bar and scatter"
      ]
    },
    {
      "cell_type": "code",
      "metadata": {
        "id": "zfEF1sHwkGQ2",
        "colab_type": "code",
        "outputId": "6054d1dd-dbee-4586-f0f9-9d7b891801ab",
        "colab": {
          "base_uri": "https://localhost:8080/",
          "height": 299
        }
      },
      "source": [
        "import matplotlib.pyplot as plt\n",
        "\n",
        "data = {'apples': 10, 'oranges': 15, 'lemons': 5, 'limes': 20}\n",
        "\n",
        "names = list(data.keys())\n",
        "values = list(data.values())\n",
        "print(names)\n",
        "print(values)\n",
        "\n",
        "plt.plot(names,values)\n",
        "plt.show()"
      ],
      "execution_count": 0,
      "outputs": [
        {
          "output_type": "stream",
          "text": [
            "['apples', 'oranges', 'lemons', 'limes']\n",
            "[10, 15, 5, 20]\n"
          ],
          "name": "stdout"
        },
        {
          "output_type": "display_data",
          "data": {
            "image/png": "[encoded data removed]",
            "text/plain": [
              "<Figure size 432x288 with 1 Axes>"
            ]
          },
          "metadata": {
            "tags": [],
            "needs_background": "light"
          }
        }
      ]
    },
    {
      "cell_type": "markdown",
      "metadata": {
        "id": "8Z34nKnFumam",
        "colab_type": "text"
      },
      "source": [
        "Subplot"
      ]
    },
    {
      "cell_type": "code",
      "metadata": {
        "id": "P20upiItuNpw",
        "colab_type": "code",
        "outputId": "740ecbab-68a8-47dc-b90a-5ae4f1666c72",
        "colab": {
          "base_uri": "https://localhost:8080/",
          "height": 294
        }
      },
      "source": [
        "fig, axs = plt.subplots(1, 3)\n",
        "axs[0].plot(names,values)\n",
        "axs[1].plot(names,values)\n",
        "axs[2].plot(names,values)\n",
        "fig.suptitle('Categorical Plotting')\n",
        "plt.show()"
      ],
      "execution_count": 0,
      "outputs": [
        {
          "output_type": "display_data",
          "data": {
            "image/png": "[encoded data removed]",
            "text/plain": [
              "<Figure size 432x288 with 3 Axes>"
            ]
          },
          "metadata": {
            "tags": [],
            "needs_background": "light"
          }
        }
      ]
    },
    {
      "cell_type": "markdown",
      "metadata": {
        "id": "oc2TtakVu1xf",
        "colab_type": "text"
      },
      "source": [
        "Show in figsize and share y label"
      ]
    },
    {
      "cell_type": "code",
      "metadata": {
        "id": "0SUqxLxlvIly",
        "colab_type": "code",
        "outputId": "9a6ce8df-eef9-4580-e013-82277919fca2",
        "colab": {
          "base_uri": "https://localhost:8080/",
          "height": 233
        }
      },
      "source": [
        "fig, axs = plt.subplots(1, 3, figsize=(9,3), sharey=True)\n",
        "axs[0].plot(names,values)\n",
        "axs[1].plot(names,values)\n",
        "axs[2].plot(names,values)\n",
        "fig.suptitle('Categorical Plotting')\n",
        "plt.show()"
      ],
      "execution_count": 0,
      "outputs": [
        {
          "output_type": "display_data",
          "data": {
            "image/png": "[encoded data removed]",
            "text/plain": [
              "<Figure size 648x216 with 3 Axes>"
            ]
          },
          "metadata": {
            "tags": [],
            "needs_background": "light"
          }
        }
      ]
    },
    {
      "cell_type": "markdown",
      "metadata": {
        "id": "1iW3fIMNwTsB",
        "colab_type": "text"
      },
      "source": [
        "**Exercise 4**\n",
        "\n",
        "Make a plot with sub plot as the following example\n",
        "\n",
        "<img src = \"https://i.imgur.com/9JrII2T.png\" align = \"center\">\n",
        "\n",
        "\n"
      ]
    },
    {
      "cell_type": "code",
      "metadata": {
        "id": "phCn1O4CwipI",
        "colab_type": "code",
        "outputId": "c4e4ca64-063f-4095-ade1-2b5caaad3219",
        "colab": {
          "base_uri": "https://localhost:8080/",
          "height": 417
        }
      },
      "source": [
        "fig, axs = plt.subplots(2, 2, figsize=(6,6), sharey=True)\n",
        "axs[0,0].bar(names,values)\n",
        "axs[0,1].scatter(names,values)\n",
        "axs[1,0].plot(names,values)\n",
        "axs[1,1].scatter(col_1,col_4, c = 'r', marker = '^')\n",
        "\n",
        "\n",
        "fig.suptitle('Categorical Plotting')\n",
        "plt.show()"
      ],
      "execution_count": 0,
      "outputs": [
        {
          "output_type": "display_data",
          "data": {
            "image/png": "[encoded data removed]",
            "text/plain": [
              "<Figure size 432x432 with 4 Axes>"
            ]
          },
          "metadata": {
            "tags": [],
            "needs_background": "light"
          }
        }
      ]
    },
    {
      "cell_type": "markdown",
      "metadata": {
        "id": "zPwG-nG_0Xy5",
        "colab_type": "text"
      },
      "source": [
        "**Homework**\n",
        "\n",
        "Find any 4 data sets in internet and plot with subplot as previous example"
      ]
    },
    {
      "cell_type": "code",
      "metadata": {
        "id": "yDJR-K-y06Tv",
        "colab_type": "code",
        "outputId": "a3c01e7a-a99b-4b9a-f59f-5c1e797827fb",
        "colab": {
          "base_uri": "https://localhost:8080/",
          "height": 417
        }
      },
      "source": [
        "df = pd.read_csv('https://raw.githubusercontent.com/machine-learning-course/syllabus/gh-pages/hiw-2019b/dataset-students-ml-2019b.csv')\n",
        "df2 = df.replace(to_replace =(\"Male\",\"Female\"),\n",
        "                value = (1,2)) \n",
        "\n",
        "c1 = df2.iloc[:66,1]\n",
        "c6 = df2.iloc[:66,6]\n",
        "c7 = df2.iloc[:66,7]\n",
        "c8 = df2.iloc[:66,8]\n",
        "c9 = df2.iloc[:66,9]\n",
        "\n",
        "fig, axs = plt.subplots(2, 2, figsize=(6,6), sharey=True)\n",
        "axs[0,0].bar(c1,c6)\n",
        "axs[0,1].scatter(c6,c7)\n",
        "axs[1,0].plot(c1,c7)\n",
        "axs[1,1].scatter(c6,c9, c = 'r', marker = '^')\n",
        "\n",
        "\n",
        "fig.suptitle('Categorical Plotting')\n",
        "plt.show()"
      ],
      "execution_count": 0,
      "outputs": [
        {
          "output_type": "display_data",
          "data": {
            "image/png": "[encoded data removed]",
            "text/plain": [
              "<Figure size 432x432 with 4 Axes>"
            ]
          },
          "metadata": {
            "tags": [],
            "needs_background": "light"
          }
        }
      ]
    },
    {
      "cell_type": "markdown",
      "metadata": {
        "id": "8CjEwhrjkG24",
        "colab_type": "text"
      },
      "source": [
        "# Bar and pie chart"
      ]
    },
    {
      "cell_type": "markdown",
      "metadata": {
        "id": "lIK_yk731iRj",
        "colab_type": "text"
      },
      "source": [
        "**Stacked bar graph**"
      ]
    },
    {
      "cell_type": "code",
      "metadata": {
        "id": "n7sKaTCeZotD",
        "colab_type": "code",
        "outputId": "035faefe-6e20-46ca-a847-bbdb9cd942a1",
        "colab": {
          "base_uri": "https://localhost:8080/",
          "height": 281
        }
      },
      "source": [
        "import numpy as np\n",
        "import matplotlib.pyplot as plt\n",
        "\n",
        "\n",
        "N = 5\n",
        "menMeans = (20, 35, 30, 35, 27)\n",
        "womenMeans = (25, 32, 34, 20, 25)\n",
        "menStd = (2, 3, 4, 1, 2)\n",
        "womenStd = (3, 5, 2, 3, 3)\n",
        "ind = np.arange(N)    # the x locations for the groups\n",
        "width = 0.35       # the width of the bars: can also be len(x) sequence\n",
        "\n",
        "p1 = plt.bar(menMeans, menStd)\n",
        "p2 = plt.bar(womenMeans, womenStd)\n",
        "\n",
        "plt.ylabel('Scores')\n",
        "plt.title('Scores by group and gender')\n",
        "plt.xticks(ind, ('G1', 'G2', 'G3', 'G4', 'G5'))\n",
        "plt.yticks(np.arange(0, 81, 10))\n",
        "plt.legend((p1[0], p2[0]), ('Men', 'Women'))\n",
        "\n",
        "plt.show()"
      ],
      "execution_count": 0,
      "outputs": [
        {
          "output_type": "display_data",
          "data": {
            "image/png": "[encoded data removed]",
            "text/plain": [
              "<Figure size 432x288 with 1 Axes>"
            ]
          },
          "metadata": {
            "tags": [],
            "needs_background": "light"
          }
        }
      ]
    },
    {
      "cell_type": "markdown",
      "metadata": {
        "id": "K5wI-q8-fNK_",
        "colab_type": "text"
      },
      "source": [
        "**Horizontal bar chart**"
      ]
    },
    {
      "cell_type": "code",
      "metadata": {
        "id": "VOU_oRsQfNag",
        "colab_type": "code",
        "outputId": "faaf6315-b5d2-4bf8-ecc3-d1adde8aeb85",
        "colab": {
          "base_uri": "https://localhost:8080/",
          "height": 472
        }
      },
      "source": [
        "import matplotlib.pyplot as plt\n",
        "import numpy as np\n",
        "\n",
        "# Fixing random state for reproducibility\n",
        "np.random.seed(19680801)\n",
        "\n",
        "\n",
        "plt.rcdefaults()\n",
        "fig, ax = plt.subplots()\n",
        "\n",
        "# Example data\n",
        "people = ('Tom', 'Dick', 'Harry', 'Slim', 'Jim')\n",
        "y_pos = np.arange(len(people))\n",
        "performance = 3 + 10 * np.random.rand(len(people))\n",
        "error = np.random.rand(len(people))\n",
        "\n",
        "ax.barh(y_pos,10)\n",
        "ax.set_yticks(y_pos)\n",
        "ax.set_yticklabels(people)\n",
        "ax.invert_yaxis()  # labels read top-to-bottom\n",
        "ax.set_xlabel('Performance')\n",
        "ax.set_title('How fast do you want to go today?')\n",
        "\n",
        "plt.show()"
      ],
      "execution_count": 0,
      "outputs": [
        {
          "output_type": "display_data",
          "data": {
            "image/png": "[encoded data removed]",
            "text/plain": [
              "<Figure size 640x480 with 1 Axes>"
            ]
          },
          "metadata": {
            "tags": []
          }
        }
      ]
    },
    {
      "cell_type": "markdown",
      "metadata": {
        "id": "IyBhIbeqf4J-",
        "colab_type": "text"
      },
      "source": [
        "**Pie chart**"
      ]
    },
    {
      "cell_type": "code",
      "metadata": {
        "id": "TUPT2Yrvf4fP",
        "colab_type": "code",
        "outputId": "00eebf5a-7a6f-4d52-dbd4-b41631a8f6c2",
        "colab": {
          "base_uri": "https://localhost:8080/",
          "height": 406
        }
      },
      "source": [
        "import matplotlib.pyplot as plt\n",
        "\n",
        "# Pie chart, where the slices will be ordered and plotted counter-clockwise:\n",
        "labels = 'Frogs', 'Hogs', 'Dogs', 'Logs'\n",
        "sizes = [15, 30, 45, 10]\n",
        "explode = (0, 0.1, 0, 0)  # only \"explode\" the 2nd slice (i.e. 'Hogs')\n",
        "\n",
        "fig1, ax1 = plt.subplots()\n",
        "ax1.pie(sizes)\n",
        "ax1.axis('equal')  # Equal aspect ratio ensures that pie is drawn as a circle.\n",
        "\n",
        "plt.show()"
      ],
      "execution_count": 0,
      "outputs": [
        {
          "output_type": "display_data",
          "data": {
            "image/png": "[encoded data removed]",
            "text/plain": [
              "<Figure size 640x480 with 1 Axes>"
            ]
          },
          "metadata": {
            "tags": []
          }
        }
      ]
    }
  ]
}